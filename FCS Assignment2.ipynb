{
 "cells": [
  {
   "cell_type": "markdown",
   "id": "f0138ad8-6eee-4007-b0ec-cf580497d32d",
   "metadata": {},
   "source": [
    "### Exercise 1"
   ]
  },
  {
   "cell_type": "code",
   "execution_count": 59,
   "id": "f4b39468-0c89-4984-afca-bbc5d203c0f7",
   "metadata": {},
   "outputs": [],
   "source": [
    "'''The function input 2 integers and a list, and outputs a range of values that lie between the 2 integers, inclusively'''\n",
    "def int_between(int1, int2, lst):\n",
    "    # Minimum of 2 integers\n",
    "    start = min(int1, int2)\n",
    "    # Maximum of 2 integers\n",
    "    end = max(int1, int2) \n",
    "    # Iterate over the list, and print the values that lie between int1 and int2, inclusively \n",
    "    for num in lst:\n",
    "        if start <= num <= end:\n",
    "            print(num)\n",
    "    return"
   ]
  },
  {
   "cell_type": "code",
   "execution_count": 60,
   "id": "6fdbadbc-07ca-4a5d-aa25-f2db096cccbd",
   "metadata": {},
   "outputs": [
    {
     "name": "stdout",
     "output_type": "stream",
     "text": [
      "54\n",
      "76\n",
      "98\n",
      "100\n"
     ]
    }
   ],
   "source": [
    "# Test\n",
    "list1 = [54,76,2,4,98,100] \n",
    "int_between(20, 100, list1)"
   ]
  },
  {
   "cell_type": "markdown",
   "id": "c28be4d2-993d-40a9-aca2-c0b7a34b310e",
   "metadata": {},
   "source": [
    "### Exercise 2"
   ]
  },
  {
   "cell_type": "code",
   "execution_count": 61,
   "id": "43bc57f7-cc5d-4bb1-b17e-8ce7990362ee",
   "metadata": {},
   "outputs": [
    {
     "name": "stdin",
     "output_type": "stream",
     "text": [
      "Please enter a letter: a\n"
     ]
    },
    {
     "name": "stdout",
     "output_type": "stream",
     "text": [
      "Names containing the letter 'a':\n",
      "Maria\n",
      "Hala\n",
      "Ghady\n",
      "Ehsan\n"
     ]
    },
    {
     "name": "stdin",
     "output_type": "stream",
     "text": [
      "Please enter a letter: \n"
     ]
    },
    {
     "name": "stdout",
     "output_type": "stream",
     "text": [
      "No letter is entered. Exit the program!\n"
     ]
    }
   ],
   "source": [
    "# List of names\n",
    "names = [\"Maria\", \"Hala\", \"Ghady\", \"Ehsan\", \"Joe\", \"Zoe\"]\n",
    "# while condition is true, execute the code after break.\n",
    "# When no letter is entered, exit the program. Otherwise, check if a name includes the letter entered.\n",
    "# Use list comprehension to return the list of names, in which each name has the entered letter.\n",
    "# Format accordingly. If none of the names has the input letter, print \"No names contains the input letter......\" \n",
    "\n",
    "while True:\n",
    "    # Input letter\n",
    "    letter = input(\"Please enter a letter:\").lower()\n",
    "    # If an empty string is entered, exit the program\n",
    "    if letter == \"\":\n",
    "        print(\"No letter is entered. Exit the program!\")\n",
    "        break\n",
    "        \n",
    "    # List of names that match the defined criterion    \n",
    "    matching_names = [name for name in names if letter in name.lower()]\n",
    "\n",
    "    # Define the variable nl for a new line. It is used to format the printout of the names\n",
    "    nl = '\\n'\n",
    "    if matching_names:\n",
    "        print(f\"Names containing the letter '{letter}':{nl}{nl.join(matching_names)}\")\n",
    "    else:\n",
    "        print(f\"No name contains the input letter '{letter}'. Please enter a different letter, or just hit enter to exit the program!\")"
   ]
  },
  {
   "cell_type": "markdown",
   "id": "afe59ef8-76a3-49d5-ab3b-71b66dd3fd62",
   "metadata": {},
   "source": [
    "### Exercise 3\n",
    "\n",
    "Given this list: numbers = [-12, 4, 12, 25, 67], write a program that repeatedly asks the user to input a number, and then insert that number in its correct position in the list. And then print the list. Keep asking the user to input a number until they input the value -99."
   ]
  },
  {
   "cell_type": "code",
   "execution_count": 68,
   "id": "972307bc-e67e-410d-8327-01d9aa14ef96",
   "metadata": {},
   "outputs": [
    {
     "name": "stdin",
     "output_type": "stream",
     "text": [
      "Enter a number: -100\n"
     ]
    },
    {
     "name": "stdout",
     "output_type": "stream",
     "text": [
      "[-100, -12, 4, 12, 25, 67]\n"
     ]
    },
    {
     "name": "stdin",
     "output_type": "stream",
     "text": [
      "Enter a number: -197\n"
     ]
    },
    {
     "name": "stdout",
     "output_type": "stream",
     "text": [
      "[-197, -100, -12, 4, 12, 25, 67]\n"
     ]
    },
    {
     "name": "stdin",
     "output_type": "stream",
     "text": [
      "Enter a number: 2\n"
     ]
    },
    {
     "name": "stdout",
     "output_type": "stream",
     "text": [
      "[-197, -100, -12, 2, 4, 12, 25, 67]\n"
     ]
    },
    {
     "name": "stdin",
     "output_type": "stream",
     "text": [
      "Enter a number: 100\n"
     ]
    },
    {
     "name": "stdout",
     "output_type": "stream",
     "text": [
      "[-197, -100, -12, 2, 4, 12, 25, 67, 100]\n"
     ]
    },
    {
     "name": "stdin",
     "output_type": "stream",
     "text": [
      "Enter a number: 35\n"
     ]
    },
    {
     "name": "stdout",
     "output_type": "stream",
     "text": [
      "[-197, -100, -12, 2, 4, 12, 25, 35, 67, 100]\n"
     ]
    },
    {
     "name": "stdin",
     "output_type": "stream",
     "text": [
      "Enter a number: -99\n"
     ]
    },
    {
     "name": "stdout",
     "output_type": "stream",
     "text": [
      "Exit the program!\n"
     ]
    }
   ],
   "source": [
    "# Define a list of integers\n",
    "numbers = [-12, 4, 12, 25, 67]\n",
    "\n",
    "# Execute while the condition is true. However, when the input value is -99, exit the program using break statement.\n",
    "# When the condition is true, use append method to add the number to the list, then sort the list. Finally, print the \n",
    "# updated list.\n",
    "while True:\n",
    "    num = int(input(\"Enter a number:\"))\n",
    "    if num == -99:\n",
    "        print(\"Exit the program!\")\n",
    "        break\n",
    "    \n",
    "    numbers.append(num)\n",
    "    numbers.sort()\n",
    "    print(numbers)"
   ]
  },
  {
   "cell_type": "markdown",
   "id": "c107c95b-2735-403b-9a9b-10ce77c03448",
   "metadata": {},
   "source": [
    "### Exercise 4\n",
    "\n",
    "Given this string  \r\n",
    "Words = ”Is this the real life? Is this just fantasy? Caught in a landslide, no escape from reality Open your eyes, look up to the skies and see I'm just a poor boy, I need no sympathy Because I'm easy come, easy go, little high, little low Any way the wind blows doesn't really matter to me, to me Mama, just killed a man Put a gun against his head, pulled my trigger, now he's dead Mama, life had just begun But now I've gone and thrown it all away Mama, ooh, didn't mean to make you cry If I'm not back again this time tomorrow Carry on, carry on as if nothing really matters Too late, my time has come Sends shivers down my spine, body's aching all the time Goodbye, everybody, I've got to go Gotta leave you all behind and face the truth Mama, ooh (any way the wind blows) I don't wanna die I sometimes wish I'd never been born at all I see a little silhouetto of a man Scaramouche, Scaramouche, will you do the Fandango? Thunderbolt and lightning, very, very frightening me (Galileo) Galileo, (Galileo) Galileo, Galileo Figaro, magnifico But I'm just a poor boy, nobody loves me He's just a poor boy from a poor family Spare him his life from this monstrosity.”\n",
    "\n",
    "Ask the user for two integer values and print the slice of words that fall between these numbers. Make sure these numbers are valid and will not cause errors or weird outputs.\n",
    "\n",
    "Example: int1=3 int2=6 The output would be: this \r\n"
   ]
  },
  {
   "cell_type": "code",
   "execution_count": 85,
   "id": "0b498a46-1e30-414d-8826-372d95c7238f",
   "metadata": {},
   "outputs": [
    {
     "name": "stdin",
     "output_type": "stream",
     "text": [
      "Enter the start index:  3\n",
      "Enter the end index:  6\n"
     ]
    },
    {
     "name": "stdout",
     "output_type": "stream",
     "text": [
      "this\n"
     ]
    }
   ],
   "source": [
    "words = '''Is this the real life? Is this just fantasy? Caught in a landslide, no escape from reality Open your eyes, look up to the skies and see \n",
    "I'm just a poor boy, I need no sympathy Because I'm easy come, easy go, little high, little low Any way the wind blows doesn't really matter to me, \n",
    "to me Mama, just killed a man Put a gun against his head, pulled my trigger, now he's dead Mama, life had just begun But now I've gone and thrown it \n",
    "all away Mama, ooh, didn't mean to make you cry If I'm not back again this time tomorrow Carry on, carry on as if nothing really matters Too late, \n",
    "my time has come Sends shivers down my spine, body's aching all the time Goodbye, everybody, I've got to go Gotta leave you all behind and face the \n",
    "truth Mama, ooh (any way the wind blows) I don't wanna die I sometimes wish I'd never been born at all I see a little silhouetto of a man Scaramouche, \n",
    "Scaramouche, will you do the Fandango? Thunderbolt and lightning, very, very frightening me (Galileo) Galileo, (Galileo) Galileo, Galileo Figaro, \n",
    "magnifico But I'm just a poor boy, nobody loves me He's just a poor boy from a poor family Spare him his life from this monstrosity.'''\n",
    "\n",
    "# Get user input for indices (start and end indexes)\n",
    "start_index = int(input(\"Enter the start index: \"))\n",
    "end_index = int(input(\"Enter the end index: \"))\n",
    "\n",
    "max_index = len(words)\n",
    "\n",
    "# Validate indices\n",
    "if 0 <= start_index <= max_index and start_index <= end_index <= max_index:\n",
    "    # Print the slice of words\n",
    "    print(words[start_index:end_index+1])\n",
    "else:\n",
    "    print(\"Invalid indices. Please ensure they are within the range of the string's length.\")"
   ]
  },
  {
   "cell_type": "code",
   "execution_count": null,
   "id": "1f2f129a-1557-44a0-bcdb-0fe4a9428d96",
   "metadata": {},
   "outputs": [],
   "source": []
  }
 ],
 "metadata": {
  "kernelspec": {
   "display_name": "Python 3 (ipykernel)",
   "language": "python",
   "name": "python3"
  },
  "language_info": {
   "codemirror_mode": {
    "name": "ipython",
    "version": 3
   },
   "file_extension": ".py",
   "mimetype": "text/x-python",
   "name": "python",
   "nbconvert_exporter": "python",
   "pygments_lexer": "ipython3",
   "version": "3.11.7"
  }
 },
 "nbformat": 4,
 "nbformat_minor": 5
}
